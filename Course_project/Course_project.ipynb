{
 "cells": [
  {
   "cell_type": "markdown",
   "metadata": {},
   "source": [
    "# Курсовой проект для курса \"Python для Data Science\""
   ]
  },
  {
   "cell_type": "markdown",
   "metadata": {},
   "source": [
    "**Задание:** Используя данные из train.csv, построить модель для предсказания цен на недвижимость (квартиры). С помощью полученной модели предсказать цены для квартир из файла test.csv."
   ]
  },
  {
   "cell_type": "markdown",
   "metadata": {},
   "source": [
    "**Целевая переменная:** Price"
   ]
  },
  {
   "cell_type": "markdown",
   "metadata": {},
   "source": [
    "**Метрика:** R2 - коэффициент детерминации (sklearn.metrics.r2_score)"
   ]
  },
  {
   "cell_type": "markdown",
   "metadata": {},
   "source": [
    "**Описание датасета:**\n",
    "\n",
    "* **Id** - идентификационный номер квартиры\n",
    "* **DistrictId** - идентификационный номер района\n",
    "* **Rooms** - количество комнат\n",
    "* **Square** - площадь\n",
    "* **LifeSquare** - жилая площадь\n",
    "* **KitchenSquare** - площадь кухни\n",
    "* **Floor** - этаж\n",
    "* **HouseFloor** - количество этажей в доме\n",
    "* **HouseYear** - год постройки дома\n",
    "* **Ecology_1, Ecology_2, Ecology_3** - экологические показатели местности\n",
    "* **Social_1, Social_2, Social_3** - социальные показатели местности\n",
    "* **Healthcare_1, Helthcare_2** - показатели местности, связанные с охраной здоровья\n",
    "* **Shops_1, Shops_2** - показатели, связанные с наличием магазинов, торговых центров\n",
    "* **Price** - цена квартиры"
   ]
  },
  {
   "cell_type": "markdown",
   "metadata": {},
   "source": [
    "## I. Загрузка библиотек и функций"
   ]
  },
  {
   "cell_type": "code",
   "execution_count": 1,
   "metadata": {},
   "outputs": [],
   "source": [
    "# 1. Основные библиотеки\n",
    "import numpy as np\n",
    "import pandas as pd\n",
    "import seaborn as sns\n",
    "from matplotlib import pyplot as plt\n",
    "%matplotlib inline\n",
    "\n",
    "# 2. Разделение датасета\n",
    "from sklearn.model_selection import train_test_split, cross_val_score, KFold, GridSearchCV\n",
    "\n",
    "# 3. Модели\n",
    "from sklearn.linear_model import LinearRegression\n",
    "from sklearn.ensemble import RandomForestRegressor, VotingRegressor\n",
    "from lightgbm import LGBMRegressor\n",
    "\n",
    "# 4. Метрики качества\n",
    "from sklearn.metrics import mean_squared_error as mse, r2_score as r2\n",
    "\n",
    "# 5. Для применения текущей даты\n",
    "from datetime import date\n",
    "\n",
    "# 6. Cборщик мусора\n",
    "import gc \n",
    "\n",
    "# 7. Понижение размерности\n",
    "from sklearn.decomposition import PCA"
   ]
  },
  {
   "cell_type": "code",
   "execution_count": 2,
   "metadata": {},
   "outputs": [],
   "source": [
    "def evaluate_preds(true_values, pred_values, save=False):\n",
    "    \"\"\"Оценка качества модели и график preds vs true\"\"\"\n",
    "    \n",
    "    print(\"R2:\\t\" + str(round(r2(true_values, pred_values), 3)) + \"\\n\" +\n",
    "          \"RMSE:\\t\" + str(round(np.sqrt(mse(true_values, pred_values)), 3)) + \"\\n\" +\n",
    "          \"MSE:\\t\" + str(round(mse(true_values, pred_values), 3)))\n",
    "    \n",
    "    plt.figure(figsize=(8,8))\n",
    "    \n",
    "    sns.scatterplot(x=pred_values, y=true_values)\n",
    "    plt.plot([0, 5000], [0, 5000], linestyle='--', color='black')  # диагональ, где true_values = pred_values\n",
    "    \n",
    "    plt.xlabel('Predicted values')\n",
    "    plt.ylabel('True values')\n",
    "    plt.title('True vs Predicted values')\n",
    "    \n",
    "    if save == True:\n",
    "        plt.savefig(REPORTS_FILE_PATH + 'report.png')\n",
    "    plt.show()"
   ]
  },
  {
   "cell_type": "markdown",
   "metadata": {},
   "source": [
    "## II. Чтение данных"
   ]
  },
  {
   "cell_type": "code",
   "execution_count": 3,
   "metadata": {},
   "outputs": [],
   "source": [
    "df = pd.read_csv('train.csv')\n",
    "fdf = pd.read_csv('test.csv')"
   ]
  },
  {
   "cell_type": "code",
   "execution_count": 4,
   "metadata": {},
   "outputs": [
    {
     "name": "stdout",
     "output_type": "stream",
     "text": [
      "<class 'pandas.core.frame.DataFrame'>\n",
      "RangeIndex: 10000 entries, 0 to 9999\n",
      "Data columns (total 20 columns):\n",
      "Id               10000 non-null int64\n",
      "DistrictId       10000 non-null int64\n",
      "Rooms            10000 non-null float64\n",
      "Square           10000 non-null float64\n",
      "LifeSquare       7887 non-null float64\n",
      "KitchenSquare    10000 non-null float64\n",
      "Floor            10000 non-null int64\n",
      "HouseFloor       10000 non-null float64\n",
      "HouseYear        10000 non-null int64\n",
      "Ecology_1        10000 non-null float64\n",
      "Ecology_2        10000 non-null object\n",
      "Ecology_3        10000 non-null object\n",
      "Social_1         10000 non-null int64\n",
      "Social_2         10000 non-null int64\n",
      "Social_3         10000 non-null int64\n",
      "Healthcare_1     5202 non-null float64\n",
      "Helthcare_2      10000 non-null int64\n",
      "Shops_1          10000 non-null int64\n",
      "Shops_2          10000 non-null object\n",
      "Price            10000 non-null float64\n",
      "dtypes: float64(8), int64(9), object(3)\n",
      "memory usage: 1.5+ MB\n"
     ]
    }
   ],
   "source": [
    "# Проверка типов данных train\n",
    "df.info()"
   ]
  },
  {
   "cell_type": "code",
   "execution_count": 5,
   "metadata": {},
   "outputs": [
    {
     "name": "stdout",
     "output_type": "stream",
     "text": [
      "<class 'pandas.core.frame.DataFrame'>\n",
      "RangeIndex: 5000 entries, 0 to 4999\n",
      "Data columns (total 19 columns):\n",
      "Id               5000 non-null int64\n",
      "DistrictId       5000 non-null int64\n",
      "Rooms            5000 non-null float64\n",
      "Square           5000 non-null float64\n",
      "LifeSquare       3959 non-null float64\n",
      "KitchenSquare    5000 non-null float64\n",
      "Floor            5000 non-null int64\n",
      "HouseFloor       5000 non-null float64\n",
      "HouseYear        5000 non-null int64\n",
      "Ecology_1        5000 non-null float64\n",
      "Ecology_2        5000 non-null object\n",
      "Ecology_3        5000 non-null object\n",
      "Social_1         5000 non-null int64\n",
      "Social_2         5000 non-null int64\n",
      "Social_3         5000 non-null int64\n",
      "Healthcare_1     2623 non-null float64\n",
      "Helthcare_2      5000 non-null int64\n",
      "Shops_1          5000 non-null int64\n",
      "Shops_2          5000 non-null object\n",
      "dtypes: float64(7), int64(9), object(3)\n",
      "memory usage: 742.3+ KB\n"
     ]
    }
   ],
   "source": [
    "# Проверка типов данных test\n",
    "fdf.info()"
   ]
  },
  {
   "cell_type": "markdown",
   "metadata": {},
   "source": [
    "## III. EDA и чистка данных"
   ]
  },
  {
   "cell_type": "markdown",
   "metadata": {},
   "source": [
    "### III.I. Преобразование идентификационных и категориальных параметров"
   ]
  },
  {
   "cell_type": "code",
   "execution_count": 6,
   "metadata": {},
   "outputs": [],
   "source": [
    "# DistrictId\n",
    "df['DistrictId'] = df['DistrictId'].astype('category')\n",
    "fdf['DistrictId'] = fdf['DistrictId'].astype('category')\n",
    "\n",
    "# Ecology_2\n",
    "df['Ecology_2'] = df['Ecology_2'].map({'A': 0, 'B': 1})\n",
    "fdf['Ecology_2'] = fdf['Ecology_2'].map({'A': 0, 'B': 1})\n",
    "\n",
    "# Ecology_3\n",
    "df['Ecology_3'] = df['Ecology_3'].map({'A': 0, 'B': 1})\n",
    "fdf['Ecology_3'] = fdf['Ecology_3'].map({'A': 0, 'B': 1})\n",
    "\n",
    "# Shops_2\n",
    "df['Shops_2'] = df['Shops_2'].map({'A': 0, 'B': 1})\n",
    "fdf['Shops_2'] = fdf['Shops_2'].map({'A': 0, 'B': 1})"
   ]
  },
  {
   "cell_type": "code",
   "execution_count": 7,
   "metadata": {},
   "outputs": [
    {
     "data": {
      "text/html": [
       "<div>\n",
       "<style scoped>\n",
       "    .dataframe tbody tr th:only-of-type {\n",
       "        vertical-align: middle;\n",
       "    }\n",
       "\n",
       "    .dataframe tbody tr th {\n",
       "        vertical-align: top;\n",
       "    }\n",
       "\n",
       "    .dataframe thead th {\n",
       "        text-align: right;\n",
       "    }\n",
       "</style>\n",
       "<table border=\"1\" class=\"dataframe\">\n",
       "  <thead>\n",
       "    <tr style=\"text-align: right;\">\n",
       "      <th></th>\n",
       "      <th>Id</th>\n",
       "      <th>Rooms</th>\n",
       "      <th>Square</th>\n",
       "      <th>LifeSquare</th>\n",
       "      <th>KitchenSquare</th>\n",
       "      <th>Floor</th>\n",
       "      <th>HouseFloor</th>\n",
       "      <th>HouseYear</th>\n",
       "      <th>Ecology_1</th>\n",
       "      <th>Ecology_2</th>\n",
       "      <th>Ecology_3</th>\n",
       "      <th>Social_1</th>\n",
       "      <th>Social_2</th>\n",
       "      <th>Social_3</th>\n",
       "      <th>Healthcare_1</th>\n",
       "      <th>Helthcare_2</th>\n",
       "      <th>Shops_1</th>\n",
       "      <th>Shops_2</th>\n",
       "      <th>Price</th>\n",
       "    </tr>\n",
       "  </thead>\n",
       "  <tbody>\n",
       "    <tr>\n",
       "      <td>count</td>\n",
       "      <td>10000.00000</td>\n",
       "      <td>10000.000000</td>\n",
       "      <td>10000.000000</td>\n",
       "      <td>7887.000000</td>\n",
       "      <td>10000.000000</td>\n",
       "      <td>10000.000000</td>\n",
       "      <td>10000.000000</td>\n",
       "      <td>1.000000e+04</td>\n",
       "      <td>10000.000000</td>\n",
       "      <td>10000.000000</td>\n",
       "      <td>10000.000000</td>\n",
       "      <td>10000.000000</td>\n",
       "      <td>10000.000000</td>\n",
       "      <td>10000.000000</td>\n",
       "      <td>5202.000000</td>\n",
       "      <td>10000.000000</td>\n",
       "      <td>10000.000000</td>\n",
       "      <td>10000.000000</td>\n",
       "      <td>10000.000000</td>\n",
       "    </tr>\n",
       "    <tr>\n",
       "      <td>mean</td>\n",
       "      <td>8383.40770</td>\n",
       "      <td>1.890500</td>\n",
       "      <td>56.315775</td>\n",
       "      <td>37.199645</td>\n",
       "      <td>6.273300</td>\n",
       "      <td>8.526700</td>\n",
       "      <td>12.609400</td>\n",
       "      <td>3.990166e+03</td>\n",
       "      <td>0.118858</td>\n",
       "      <td>0.990300</td>\n",
       "      <td>0.972500</td>\n",
       "      <td>24.687000</td>\n",
       "      <td>5352.157400</td>\n",
       "      <td>8.039200</td>\n",
       "      <td>1142.904460</td>\n",
       "      <td>1.319500</td>\n",
       "      <td>4.231300</td>\n",
       "      <td>0.917500</td>\n",
       "      <td>214138.857399</td>\n",
       "    </tr>\n",
       "    <tr>\n",
       "      <td>std</td>\n",
       "      <td>4859.01902</td>\n",
       "      <td>0.839512</td>\n",
       "      <td>21.058732</td>\n",
       "      <td>86.241209</td>\n",
       "      <td>28.560917</td>\n",
       "      <td>5.241148</td>\n",
       "      <td>6.775974</td>\n",
       "      <td>2.005003e+05</td>\n",
       "      <td>0.119025</td>\n",
       "      <td>0.098015</td>\n",
       "      <td>0.163543</td>\n",
       "      <td>17.532614</td>\n",
       "      <td>4006.799803</td>\n",
       "      <td>23.831875</td>\n",
       "      <td>1021.517264</td>\n",
       "      <td>1.493601</td>\n",
       "      <td>4.806341</td>\n",
       "      <td>0.275139</td>\n",
       "      <td>92872.293865</td>\n",
       "    </tr>\n",
       "    <tr>\n",
       "      <td>min</td>\n",
       "      <td>0.00000</td>\n",
       "      <td>0.000000</td>\n",
       "      <td>1.136859</td>\n",
       "      <td>0.370619</td>\n",
       "      <td>0.000000</td>\n",
       "      <td>1.000000</td>\n",
       "      <td>0.000000</td>\n",
       "      <td>1.910000e+03</td>\n",
       "      <td>0.000000</td>\n",
       "      <td>0.000000</td>\n",
       "      <td>0.000000</td>\n",
       "      <td>0.000000</td>\n",
       "      <td>168.000000</td>\n",
       "      <td>0.000000</td>\n",
       "      <td>0.000000</td>\n",
       "      <td>0.000000</td>\n",
       "      <td>0.000000</td>\n",
       "      <td>0.000000</td>\n",
       "      <td>59174.778028</td>\n",
       "    </tr>\n",
       "    <tr>\n",
       "      <td>25%</td>\n",
       "      <td>4169.50000</td>\n",
       "      <td>1.000000</td>\n",
       "      <td>41.774881</td>\n",
       "      <td>22.769832</td>\n",
       "      <td>1.000000</td>\n",
       "      <td>4.000000</td>\n",
       "      <td>9.000000</td>\n",
       "      <td>1.974000e+03</td>\n",
       "      <td>0.017647</td>\n",
       "      <td>1.000000</td>\n",
       "      <td>1.000000</td>\n",
       "      <td>6.000000</td>\n",
       "      <td>1564.000000</td>\n",
       "      <td>0.000000</td>\n",
       "      <td>350.000000</td>\n",
       "      <td>0.000000</td>\n",
       "      <td>1.000000</td>\n",
       "      <td>1.000000</td>\n",
       "      <td>153872.633942</td>\n",
       "    </tr>\n",
       "    <tr>\n",
       "      <td>50%</td>\n",
       "      <td>8394.50000</td>\n",
       "      <td>2.000000</td>\n",
       "      <td>52.513310</td>\n",
       "      <td>32.781260</td>\n",
       "      <td>6.000000</td>\n",
       "      <td>7.000000</td>\n",
       "      <td>13.000000</td>\n",
       "      <td>1.977000e+03</td>\n",
       "      <td>0.075424</td>\n",
       "      <td>1.000000</td>\n",
       "      <td>1.000000</td>\n",
       "      <td>25.000000</td>\n",
       "      <td>5285.000000</td>\n",
       "      <td>2.000000</td>\n",
       "      <td>900.000000</td>\n",
       "      <td>1.000000</td>\n",
       "      <td>3.000000</td>\n",
       "      <td>1.000000</td>\n",
       "      <td>192269.644879</td>\n",
       "    </tr>\n",
       "    <tr>\n",
       "      <td>75%</td>\n",
       "      <td>12592.50000</td>\n",
       "      <td>2.000000</td>\n",
       "      <td>65.900625</td>\n",
       "      <td>45.128803</td>\n",
       "      <td>9.000000</td>\n",
       "      <td>12.000000</td>\n",
       "      <td>17.000000</td>\n",
       "      <td>2.001000e+03</td>\n",
       "      <td>0.195781</td>\n",
       "      <td>1.000000</td>\n",
       "      <td>1.000000</td>\n",
       "      <td>36.000000</td>\n",
       "      <td>7227.000000</td>\n",
       "      <td>5.000000</td>\n",
       "      <td>1548.000000</td>\n",
       "      <td>2.000000</td>\n",
       "      <td>6.000000</td>\n",
       "      <td>1.000000</td>\n",
       "      <td>249135.462171</td>\n",
       "    </tr>\n",
       "    <tr>\n",
       "      <td>max</td>\n",
       "      <td>16798.00000</td>\n",
       "      <td>19.000000</td>\n",
       "      <td>641.065193</td>\n",
       "      <td>7480.592129</td>\n",
       "      <td>2014.000000</td>\n",
       "      <td>42.000000</td>\n",
       "      <td>117.000000</td>\n",
       "      <td>2.005201e+07</td>\n",
       "      <td>0.521867</td>\n",
       "      <td>1.000000</td>\n",
       "      <td>1.000000</td>\n",
       "      <td>74.000000</td>\n",
       "      <td>19083.000000</td>\n",
       "      <td>141.000000</td>\n",
       "      <td>4849.000000</td>\n",
       "      <td>6.000000</td>\n",
       "      <td>23.000000</td>\n",
       "      <td>1.000000</td>\n",
       "      <td>633233.466570</td>\n",
       "    </tr>\n",
       "  </tbody>\n",
       "</table>\n",
       "</div>"
      ],
      "text/plain": [
       "                Id         Rooms        Square   LifeSquare  KitchenSquare  \\\n",
       "count  10000.00000  10000.000000  10000.000000  7887.000000   10000.000000   \n",
       "mean    8383.40770      1.890500     56.315775    37.199645       6.273300   \n",
       "std     4859.01902      0.839512     21.058732    86.241209      28.560917   \n",
       "min        0.00000      0.000000      1.136859     0.370619       0.000000   \n",
       "25%     4169.50000      1.000000     41.774881    22.769832       1.000000   \n",
       "50%     8394.50000      2.000000     52.513310    32.781260       6.000000   \n",
       "75%    12592.50000      2.000000     65.900625    45.128803       9.000000   \n",
       "max    16798.00000     19.000000    641.065193  7480.592129    2014.000000   \n",
       "\n",
       "              Floor    HouseFloor     HouseYear     Ecology_1     Ecology_2  \\\n",
       "count  10000.000000  10000.000000  1.000000e+04  10000.000000  10000.000000   \n",
       "mean       8.526700     12.609400  3.990166e+03      0.118858      0.990300   \n",
       "std        5.241148      6.775974  2.005003e+05      0.119025      0.098015   \n",
       "min        1.000000      0.000000  1.910000e+03      0.000000      0.000000   \n",
       "25%        4.000000      9.000000  1.974000e+03      0.017647      1.000000   \n",
       "50%        7.000000     13.000000  1.977000e+03      0.075424      1.000000   \n",
       "75%       12.000000     17.000000  2.001000e+03      0.195781      1.000000   \n",
       "max       42.000000    117.000000  2.005201e+07      0.521867      1.000000   \n",
       "\n",
       "          Ecology_3      Social_1      Social_2      Social_3  Healthcare_1  \\\n",
       "count  10000.000000  10000.000000  10000.000000  10000.000000   5202.000000   \n",
       "mean       0.972500     24.687000   5352.157400      8.039200   1142.904460   \n",
       "std        0.163543     17.532614   4006.799803     23.831875   1021.517264   \n",
       "min        0.000000      0.000000    168.000000      0.000000      0.000000   \n",
       "25%        1.000000      6.000000   1564.000000      0.000000    350.000000   \n",
       "50%        1.000000     25.000000   5285.000000      2.000000    900.000000   \n",
       "75%        1.000000     36.000000   7227.000000      5.000000   1548.000000   \n",
       "max        1.000000     74.000000  19083.000000    141.000000   4849.000000   \n",
       "\n",
       "        Helthcare_2       Shops_1       Shops_2          Price  \n",
       "count  10000.000000  10000.000000  10000.000000   10000.000000  \n",
       "mean       1.319500      4.231300      0.917500  214138.857399  \n",
       "std        1.493601      4.806341      0.275139   92872.293865  \n",
       "min        0.000000      0.000000      0.000000   59174.778028  \n",
       "25%        0.000000      1.000000      1.000000  153872.633942  \n",
       "50%        1.000000      3.000000      1.000000  192269.644879  \n",
       "75%        2.000000      6.000000      1.000000  249135.462171  \n",
       "max        6.000000     23.000000      1.000000  633233.466570  "
      ]
     },
     "execution_count": 7,
     "metadata": {},
     "output_type": "execute_result"
    }
   ],
   "source": [
    "df.describe()"
   ]
  },
  {
   "cell_type": "code",
   "execution_count": 8,
   "metadata": {},
   "outputs": [
    {
     "data": {
      "image/png": "[encoded data removed]",
      "text/plain": [
       "<Figure size 1080x720 with 2 Axes>"
      ]
     },
     "metadata": {
      "needs_background": "light"
     },
     "output_type": "display_data"
    }
   ],
   "source": [
    "plt.figure(figsize = (15,10))\n",
    "\n",
    "sns.plotting_context(font_scale=1.4)\n",
    "\n",
    "corr_matrix = df.corr()\n",
    "corr_matrix = np.round(corr_matrix, 2)\n",
    "corr_matrix[np.abs(corr_matrix) < 0.2] = 0\n",
    "\n",
    "sns.heatmap(corr_matrix, annot=True, linewidths=.5, cmap='coolwarm')\n",
    "\n",
    "plt.title('Correlation matrix')\n",
    "plt.show()"
   ]
  },
  {
   "cell_type": "markdown",
   "metadata": {},
   "source": [
    "### III.II. Выявление и исправление выбросов и чистка данных"
   ]
  },
  {
   "cell_type": "markdown",
   "metadata": {},
   "source": [
    "**HouseYear**"
   ]
  },
  {
   "cell_type": "code",
   "execution_count": 9,
   "metadata": {},
   "outputs": [
    {
     "data": {
      "text/plain": [
       "array([    1910,     1912,     1914,     1916,     1917,     1918,\n",
       "           1919,     1928,     1929,     1930,     1931,     1932,\n",
       "           1933,     1934,     1935,     1936,     1937,     1938,\n",
       "           1939,     1940,     1941,     1942,     1947,     1948,\n",
       "           1950,     1951,     1952,     1953,     1954,     1955,\n",
       "           1956,     1957,     1958,     1959,     1960,     1961,\n",
       "           1962,     1963,     1964,     1965,     1966,     1967,\n",
       "           1968,     1969,     1970,     1971,     1972,     1973,\n",
       "           1974,     1975,     1976,     1977,     1978,     1979,\n",
       "           1980,     1981,     1982,     1983,     1984,     1985,\n",
       "           1986,     1987,     1988,     1989,     1990,     1991,\n",
       "           1992,     1993,     1994,     1995,     1996,     1997,\n",
       "           1998,     1999,     2000,     2001,     2002,     2003,\n",
       "           2004,     2005,     2006,     2007,     2008,     2009,\n",
       "           2010,     2011,     2012,     2013,     2014,     2015,\n",
       "           2016,     2017,     2018,     2019,     2020,     4968,\n",
       "       20052011], dtype=int64)"
      ]
     },
     "execution_count": 9,
     "metadata": {},
     "output_type": "execute_result"
    }
   ],
   "source": [
    "df.HouseYear.sort_values().unique()"
   ]
  },
  {
   "cell_type": "markdown",
   "metadata": {},
   "source": [
    "*Подозрение вызывают признаки больше текущего года*"
   ]
  },
  {
   "cell_type": "markdown",
   "metadata": {},
   "source": [
    "**Floor и HouseFloor**"
   ]
  },
  {
   "cell_type": "code",
   "execution_count": 10,
   "metadata": {},
   "outputs": [
    {
     "data": {
      "image/png": "[encoded data removed]",
      "text/plain": [
       "<Figure size 432x432 with 3 Axes>"
      ]
     },
     "metadata": {
      "needs_background": "light"
     },
     "output_type": "display_data"
    }
   ],
   "source": [
    "grid = sns.jointplot(df['Floor'], df['HouseFloor'], kind='reg')\n",
    "grid.fig.set_figwidth(6)\n",
    "grid.fig.set_figheight(6)\n",
    "plt.show()"
   ]
  },
  {
   "cell_type": "markdown",
   "metadata": {},
   "source": [
    "*Подозрение вызывают признаки этажность больше 90 и этаж больше этажности дома*"
   ]
  },
  {
   "cell_type": "code",
   "execution_count": 11,
   "metadata": {},
   "outputs": [
    {
     "data": {
      "text/html": [
       "<div>\n",
       "<style scoped>\n",
       "    .dataframe tbody tr th:only-of-type {\n",
       "        vertical-align: middle;\n",
       "    }\n",
       "\n",
       "    .dataframe tbody tr th {\n",
       "        vertical-align: top;\n",
       "    }\n",
       "\n",
       "    .dataframe thead th {\n",
       "        text-align: right;\n",
       "    }\n",
       "</style>\n",
       "<table border=\"1\" class=\"dataframe\">\n",
       "  <thead>\n",
       "    <tr style=\"text-align: right;\">\n",
       "      <th></th>\n",
       "      <th>Id</th>\n",
       "      <th>DistrictId</th>\n",
       "      <th>Rooms</th>\n",
       "      <th>Square</th>\n",
       "      <th>LifeSquare</th>\n",
       "      <th>KitchenSquare</th>\n",
       "      <th>Floor</th>\n",
       "      <th>HouseFloor</th>\n",
       "      <th>HouseYear</th>\n",
       "      <th>Ecology_1</th>\n",
       "      <th>Ecology_2</th>\n",
       "      <th>Ecology_3</th>\n",
       "      <th>Social_1</th>\n",
       "      <th>Social_2</th>\n",
       "      <th>Social_3</th>\n",
       "      <th>Healthcare_1</th>\n",
       "      <th>Helthcare_2</th>\n",
       "      <th>Shops_1</th>\n",
       "      <th>Shops_2</th>\n",
       "      <th>Price</th>\n",
       "    </tr>\n",
       "  </thead>\n",
       "  <tbody>\n",
       "    <tr>\n",
       "      <td>7</td>\n",
       "      <td>11993</td>\n",
       "      <td>74</td>\n",
       "      <td>2.0</td>\n",
       "      <td>80.312926</td>\n",
       "      <td>NaN</td>\n",
       "      <td>0.0</td>\n",
       "      <td>14</td>\n",
       "      <td>0.0</td>\n",
       "      <td>1977</td>\n",
       "      <td>0.075779</td>\n",
       "      <td>1</td>\n",
       "      <td>1</td>\n",
       "      <td>6</td>\n",
       "      <td>1437</td>\n",
       "      <td>3</td>\n",
       "      <td>NaN</td>\n",
       "      <td>0</td>\n",
       "      <td>2</td>\n",
       "      <td>1</td>\n",
       "      <td>221244.156664</td>\n",
       "    </tr>\n",
       "    <tr>\n",
       "      <td>14</td>\n",
       "      <td>10953</td>\n",
       "      <td>27</td>\n",
       "      <td>1.0</td>\n",
       "      <td>53.769097</td>\n",
       "      <td>52.408027</td>\n",
       "      <td>1.0</td>\n",
       "      <td>5</td>\n",
       "      <td>4.0</td>\n",
       "      <td>1977</td>\n",
       "      <td>0.072158</td>\n",
       "      <td>1</td>\n",
       "      <td>1</td>\n",
       "      <td>2</td>\n",
       "      <td>629</td>\n",
       "      <td>1</td>\n",
       "      <td>NaN</td>\n",
       "      <td>0</td>\n",
       "      <td>0</td>\n",
       "      <td>0</td>\n",
       "      <td>140647.565937</td>\n",
       "    </tr>\n",
       "    <tr>\n",
       "      <td>16</td>\n",
       "      <td>2119</td>\n",
       "      <td>27</td>\n",
       "      <td>2.0</td>\n",
       "      <td>49.360648</td>\n",
       "      <td>31.993964</td>\n",
       "      <td>5.0</td>\n",
       "      <td>6</td>\n",
       "      <td>5.0</td>\n",
       "      <td>1983</td>\n",
       "      <td>0.051815</td>\n",
       "      <td>1</td>\n",
       "      <td>1</td>\n",
       "      <td>5</td>\n",
       "      <td>1227</td>\n",
       "      <td>0</td>\n",
       "      <td>NaN</td>\n",
       "      <td>0</td>\n",
       "      <td>0</td>\n",
       "      <td>1</td>\n",
       "      <td>117000.381287</td>\n",
       "    </tr>\n",
       "    <tr>\n",
       "      <td>21</td>\n",
       "      <td>11935</td>\n",
       "      <td>27</td>\n",
       "      <td>2.0</td>\n",
       "      <td>64.711835</td>\n",
       "      <td>NaN</td>\n",
       "      <td>1.0</td>\n",
       "      <td>15</td>\n",
       "      <td>1.0</td>\n",
       "      <td>1977</td>\n",
       "      <td>0.211401</td>\n",
       "      <td>1</td>\n",
       "      <td>1</td>\n",
       "      <td>9</td>\n",
       "      <td>1892</td>\n",
       "      <td>0</td>\n",
       "      <td>NaN</td>\n",
       "      <td>0</td>\n",
       "      <td>1</td>\n",
       "      <td>1</td>\n",
       "      <td>127200.026511</td>\n",
       "    </tr>\n",
       "    <tr>\n",
       "      <td>23</td>\n",
       "      <td>6641</td>\n",
       "      <td>54</td>\n",
       "      <td>3.0</td>\n",
       "      <td>118.907612</td>\n",
       "      <td>NaN</td>\n",
       "      <td>0.0</td>\n",
       "      <td>2</td>\n",
       "      <td>0.0</td>\n",
       "      <td>1977</td>\n",
       "      <td>0.006076</td>\n",
       "      <td>1</td>\n",
       "      <td>1</td>\n",
       "      <td>30</td>\n",
       "      <td>5285</td>\n",
       "      <td>0</td>\n",
       "      <td>645.0</td>\n",
       "      <td>6</td>\n",
       "      <td>6</td>\n",
       "      <td>1</td>\n",
       "      <td>571069.052600</td>\n",
       "    </tr>\n",
       "  </tbody>\n",
       "</table>\n",
       "</div>"
      ],
      "text/plain": [
       "       Id DistrictId  Rooms      Square  LifeSquare  KitchenSquare  Floor  \\\n",
       "7   11993         74    2.0   80.312926         NaN            0.0     14   \n",
       "14  10953         27    1.0   53.769097   52.408027            1.0      5   \n",
       "16   2119         27    2.0   49.360648   31.993964            5.0      6   \n",
       "21  11935         27    2.0   64.711835         NaN            1.0     15   \n",
       "23   6641         54    3.0  118.907612         NaN            0.0      2   \n",
       "\n",
       "    HouseFloor  HouseYear  Ecology_1  Ecology_2  Ecology_3  Social_1  \\\n",
       "7          0.0       1977   0.075779          1          1         6   \n",
       "14         4.0       1977   0.072158          1          1         2   \n",
       "16         5.0       1983   0.051815          1          1         5   \n",
       "21         1.0       1977   0.211401          1          1         9   \n",
       "23         0.0       1977   0.006076          1          1        30   \n",
       "\n",
       "    Social_2  Social_3  Healthcare_1  Helthcare_2  Shops_1  Shops_2  \\\n",
       "7       1437         3           NaN            0        2        1   \n",
       "14       629         1           NaN            0        0        0   \n",
       "16      1227         0           NaN            0        0        1   \n",
       "21      1892         0           NaN            0        1        1   \n",
       "23      5285         0         645.0            6        6        1   \n",
       "\n",
       "            Price  \n",
       "7   221244.156664  \n",
       "14  140647.565937  \n",
       "16  117000.381287  \n",
       "21  127200.026511  \n",
       "23  571069.052600  "
      ]
     },
     "execution_count": 11,
     "metadata": {},
     "output_type": "execute_result"
    }
   ],
   "source": [
    "df.loc[df['Floor'] > df['HouseFloor']].head()"
   ]
  },
  {
   "cell_type": "markdown",
   "metadata": {},
   "source": [
    "**Rooms**"
   ]
  },
  {
   "cell_type": "code",
   "execution_count": 12,
   "metadata": {},
   "outputs": [
    {
     "data": {
      "image/png": "[encoded data removed]",
      "text/plain": [
       "<Figure size 432x216 with 1 Axes>"
      ]
     },
     "metadata": {
      "needs_background": "light"
     },
     "output_type": "display_data"
    }
   ],
   "source": [
    "plt.figure(figsize = (6, 3))\n",
    "plt.hist(df.Rooms, bins=40)\n",
    "plt.show()"
   ]
  },
  {
   "cell_type": "markdown",
   "metadata": {},
   "source": [
    "*Подозрение вызывают признаки 0 и больше 5*"
   ]
  },
  {
   "cell_type": "markdown",
   "metadata": {},
   "source": [
    "**Square и LifeSquare**"
   ]
  },
  {
   "cell_type": "code",
   "execution_count": 13,
   "metadata": {},
   "outputs": [
    {
     "data": {
      "image/png": "[encoded data removed]",
      "text/plain": [
       "<Figure size 432x288 with 3 Axes>"
      ]
     },
     "metadata": {
      "needs_background": "light"
     },
     "output_type": "display_data"
    }
   ],
   "source": [
    "grid = sns.jointplot(df['Square'], df['LifeSquare'], kind='reg')\n",
    "grid.fig.set_figwidth(6)\n",
    "grid.fig.set_figheight(4)\n",
    "plt.show()"
   ]
  },
  {
   "cell_type": "markdown",
   "metadata": {},
   "source": [
    "*Подозрение вызывают признаки меньше 12 на 1 комнату, площадь больше 300 и жилая площадь больше площади всей квартиры*"
   ]
  },
  {
   "cell_type": "markdown",
   "metadata": {},
   "source": [
    "**KitchenSquare**"
   ]
  },
  {
   "cell_type": "code",
   "execution_count": 14,
   "metadata": {},
   "outputs": [
    {
     "data": {
      "image/png": "[encoded data removed]",
      "text/plain": [
       "<Figure size 432x432 with 3 Axes>"
      ]
     },
     "metadata": {
      "needs_background": "light"
     },
     "output_type": "display_data"
    }
   ],
   "source": [
    "grid = sns.jointplot(df['Square'], df['KitchenSquare'], kind='reg')\n",
    "grid.fig.set_figwidth(6)\n",
    "grid.fig.set_figheight(6)\n",
    "plt.show()"
   ]
  },
  {
   "cell_type": "markdown",
   "metadata": {},
   "source": [
    "*Подозрение вызывают признаки меньше 3 и больше половины площади квартиры*"
   ]
  },
  {
   "cell_type": "code",
   "execution_count": 15,
   "metadata": {},
   "outputs": [],
   "source": [
    "def correction(X):\n",
    "    \n",
    "    # HouseYear    \n",
    "    # выброс заполнить модой \n",
    "    X.loc[X['HouseYear'] > float(date.today().strftime('%Y')), 'HouseYear'] = X['HouseYear'].mode()[0]\n",
    "    \n",
    "    # Floor и HouseFloor\n",
    "    # выброс заполнить медианой\n",
    "    X.loc[X['HouseFloor'] > 90, 'HouseFloor'] = X['HouseFloor'].median()\n",
    "    # поменять местами этаж и этажность если HouseFloor не равен нулю\n",
    "    param_f = (X['Floor'] > X['HouseFloor']) & (X['HouseFloor'] != 0)\n",
    "    X.loc[param_f, 'HouseFloor'], X.loc[param_f, 'Floor'] = X.loc[param_f, 'Floor'], X.loc[param_f, 'HouseFloor']\n",
    "    # этажность заменить на этаж\n",
    "    X.loc[X['Floor'] > X['HouseFloor'], 'HouseFloor'] = X.loc[X['Floor'] > X['HouseFloor'], 'Floor']\n",
    "\n",
    "    # Rooms\n",
    "    # заполнить на основании медиан площади в разрезе количества комнат\n",
    "    #X['R_old'] = X['Rooms']\n",
    "    X.loc[((X['Rooms'] == 0) | (X['Rooms'] > 5)) & (X['Square'] <= 48), 'Rooms'] = 1\n",
    "    X.loc[((X['Rooms'] == 0) | (X['Rooms'] > 5)) & (X['Square'] > 48) & (X['Square'] <= 68), 'Rooms'] = 2\n",
    "    X.loc[((X['Rooms'] == 0) | (X['Rooms'] > 5)) & (X['Square'] > 68) & (X['Square'] <= 88), 'Rooms'] = 3\n",
    "    X.loc[((X['Rooms'] == 0) | (X['Rooms'] > 5)) & (X['Square'] > 88) & (X['Square'] <= 118), 'Rooms'] = 4\n",
    "    X.loc[((X['Rooms'] == 0) | (X['Rooms'] > 5)) & (X['Square'] > 118), 'Rooms'] = 5\n",
    "    \n",
    "    # LifeSquare\n",
    "    # словарь - медиана площади LifeSquare в разрезе комнат в квартире\n",
    "    med_r_ls = X.groupby('Rooms')['LifeSquare'].median().round(2).to_dict()\n",
    "    # исправление выбросов площади квартиры на основании словаря med_r_ls\n",
    "    param = (X['LifeSquare'] > 300)\n",
    "    X.loc[param, 'LifeSquare'] = X.loc[param, 'Rooms'].map(med_r_ls)\n",
    "\n",
    "    # Square\n",
    "    #X['S_old'] = X['Square']\n",
    "    X.loc[X['Square'] > 300, 'Square'] = X.loc[X['Square'] > 300, 'Square'] / 10\n",
    "    X.loc[X['Square'] < 10, 'Square'] = X.loc[X['Square'] < 10, 'Square'] * 10\n",
    "    param_s1 = (X['Square']< X['LifeSquare'])\n",
    "    X.loc[param_s1, 'Square'], X.loc[param_s1, 'LifeSquare'] = X.loc[param_s1, 'LifeSquare'], X.loc[param_s1, 'Square']\n",
    "    # категория площади\n",
    "    X['S_cat'] = X['Square']//10*10\n",
    "    # словарь - медиана Rooms в разрезе категории площади по данным train\n",
    "    med_sc_r = X.groupby('S_cat')['Rooms'].median().round(2).to_dict()\n",
    "    #исправление выбросов площади квартиры на основании словаря med_r_s\n",
    "    param_s2 = ((X['Square'] / X['Rooms']) < 12)\n",
    "    X.loc[param_s2, 'Rooms'] = X.loc[param_s2, 'S_cat'].map(med_sc_r)\n",
    "    X.drop('S_cat', axis=1, inplace=True)\n",
    "    \n",
    "    # KitchenSquare\n",
    "    #X['KS_old'] = X['KitchenSquare']\n",
    "    # словарь - медиана площади KitchenSquare в разрезе комнат в квартире по данным train\n",
    "    med_r_ks = df.groupby('Rooms')['KitchenSquare'].median().round(2).to_dict()\n",
    "    X['med_R_KS'] = X['Rooms'].map(med_r_ks)\n",
    "    # исправление выбросов площади KitchenSquare на основании словаря med_r_ks\n",
    "    param_k = (X['KitchenSquare'] < 3) | (X['KitchenSquare'] > (X['Square'] / 2))\n",
    "    X.loc[param_k, 'KitchenSquare'] = X.loc[param_k, 'med_R_KS']\n",
    "    X.drop('med_R_KS', axis=1, inplace=True)\n",
    "    \n",
    "    # LifeSquare\n",
    "    X.drop('LifeSquare', axis=1, inplace=True)\n",
    "    \n",
    "    # Ecology_1\n",
    "    X['Ecology_1'] = round(X['Ecology_1']*1000, 2)\n",
    "\n",
    "    return X\n"
   ]
  },
  {
   "cell_type": "code",
   "execution_count": 16,
   "metadata": {},
   "outputs": [],
   "source": [
    "df = correction(df)\n",
    "fdf = correction(fdf)"
   ]
  },
  {
   "cell_type": "markdown",
   "metadata": {},
   "source": [
    "### III.III. Заполнение отсутствующих значений (NaN)"
   ]
  },
  {
   "cell_type": "code",
   "execution_count": 17,
   "metadata": {},
   "outputs": [
    {
     "data": {
      "image/png": "[encoded data removed]",
      "text/plain": [
       "<Figure size 1152x288 with 1 Axes>"
      ]
     },
     "metadata": {
      "needs_background": "light"
     },
     "output_type": "display_data"
    }
   ],
   "source": [
    "nan_df = (df.isna().sum() / df.shape[0]).reset_index()\n",
    "nan_df.columns=['feature', 'nan_percent']\n",
    "\n",
    "plt.figure(figsize=(16,4))\n",
    "sns.barplot(nan_df['feature'], nan_df['nan_percent'])\n",
    "plt.title('Percent Missing')\n",
    "plt.ylabel('Missing', fontsize=12)\n",
    "plt.xlabel('Features', fontsize=12)\n",
    "plt.xticks(rotation=90)\n",
    "plt.show()"
   ]
  },
  {
   "cell_type": "code",
   "execution_count": 18,
   "metadata": {},
   "outputs": [],
   "source": [
    "def model_nan(X): \n",
    "\n",
    "    # Модель RandomForestRegressor для заполнения Healthcare_1\n",
    "    # параметры для создания 2 датасетов: на df_fool модель будет обучаться \n",
    "    param=df.corr()['Healthcare_1']\n",
    "    param_df_fool = list(param[(param>0.05) & (param != 1) & (param.index != 'Price')].index) + ['Healthcare_1'] + ['Id']\n",
    "    param_df_null = list(param[(param>0.05) & (param != 1) & (param.index != 'Price')].index) + ['Id']\n",
    "    \n",
    "    # датасет с не заполненным значением Healthcare_1\n",
    "    df_null = X.loc[(X['Healthcare_1'].isnull()) | (X['Healthcare_1'] == 0.0)][param_df_null]\n",
    "    # датасет с заполненным значением Healthcare_1, на котором будет происходить обучение\n",
    "    df_fool = X.loc[(X['Healthcare_1'].notnull()) & (X['Healthcare_1'] != 0.0)][param_df_fool]\n",
    "    \n",
    "    # датафрейм без целевой переменной\n",
    "    X_t = df_fool[param_df_null]\n",
    "    # датафрейм с целевой переменной\n",
    "    y_t = df_fool['Healthcare_1']\n",
    "    \n",
    "    # модель RandomForestRegressor\n",
    "    rf = RandomForestRegressor(n_estimators=100, min_samples_leaf=3, max_depth=20, random_state=42)\n",
    "    # обучение модели на полном df_fool\n",
    "    rf.fit(X_t, y_t)\n",
    "    # предсказание признака 'Healthcare_1' на обученной модели для df_null\n",
    "    df_null_pred = list(rf.predict(df_null))\n",
    "\n",
    "    # новый столбец \n",
    "    df_null['Healthcare_1'] = df_null_pred\n",
    "    # заполнение начального датасета df полученным значением Healthcare_1 из датасета df_null\n",
    "    for i in X['Id']:\n",
    "        list_df = list(X.loc[(X['Id'] == i)]['Healthcare_1'])\n",
    "        if str(list_df[0]) == 'nan' or list_df[0] == 0.0:\n",
    "            list_df_null = list(round(df_null.loc[(df_null['Id'] == i)]['Healthcare_1'], 1))\n",
    "            X.loc[X['Id'] == i, 'Healthcare_1'] = list_df_null[0]   \n",
    "    \n",
    "    return X"
   ]
  },
  {
   "cell_type": "code",
   "execution_count": 19,
   "metadata": {},
   "outputs": [],
   "source": [
    "fdf = model_nan(fdf)\n",
    "df = model_nan(df)"
   ]
  },
  {
   "cell_type": "markdown",
   "metadata": {},
   "source": [
    "## IV. PCA"
   ]
  },
  {
   "cell_type": "code",
   "execution_count": 20,
   "metadata": {},
   "outputs": [
    {
     "data": {
      "text/plain": [
       "Ecology_1       -0.058381\n",
       "Ecology_3       -0.052585\n",
       "Id               0.009880\n",
       "Ecology_2        0.022379\n",
       "HouseYear        0.036574\n",
       "Shops_2          0.070388\n",
       "Social_3         0.074878\n",
       "Floor            0.113605\n",
       "HouseFloor       0.115733\n",
       "Shops_1          0.180876\n",
       "Healthcare_1     0.186238\n",
       "Social_2         0.239226\n",
       "Helthcare_2      0.253090\n",
       "Social_1         0.263286\n",
       "KitchenSquare    0.323550\n",
       "Rooms            0.574272\n",
       "Square           0.574338\n",
       "Price            1.000000\n",
       "Name: Price, dtype: float64"
      ]
     },
     "execution_count": 20,
     "metadata": {},
     "output_type": "execute_result"
    }
   ],
   "source": [
    "df.corr().Price.sort_values()"
   ]
  },
  {
   "cell_type": "code",
   "execution_count": 21,
   "metadata": {},
   "outputs": [],
   "source": [
    "def reduce_dims(df, dims=2, name='component'):\n",
    "    \n",
    "    dim_reducer = PCA(n_components=dims, random_state=42)\n",
    "    components = dim_reducer.fit_transform(df)\n",
    "        \n",
    "    colnames = [name + '_' + str(i) for i in range(1, dims+1)]\n",
    "    \n",
    "    return dim_reducer, pd.DataFrame(data = components, columns = colnames) "
   ]
  },
  {
   "cell_type": "code",
   "execution_count": 22,
   "metadata": {},
   "outputs": [],
   "source": [
    "def pca_components(X):\n",
    "    \n",
    "    # Ecology\n",
    "    pca_ecology = X[['Ecology_1', 'Ecology_2', 'Ecology_3']]\n",
    "    dim_reducer_eco_1d, components_eco_1d = reduce_dims(pca_ecology, dims=1)\n",
    "    X['Ecology'] = np.round(components_eco_1d.values)\n",
    "    X.drop('Ecology_1', axis=1, inplace=True)\n",
    "    X.drop('Ecology_2', axis=1, inplace=True)\n",
    "    X.drop('Ecology_3', axis=1, inplace=True)\n",
    "\n",
    "    # Shops\n",
    "    pca_shops = X[['Shops_1', 'Shops_2']]\n",
    "    dim_reducer_shop_1d, components_shop_1d = reduce_dims(pca_shops, dims=1)\n",
    "    X['Shops'] = np.round(components_shop_1d.values, 3)\n",
    "    X.drop('Shops_1', axis=1, inplace=True)\n",
    "    X.drop('Shops_2', axis=1, inplace=True)\n",
    "\n",
    "    return X"
   ]
  },
  {
   "cell_type": "code",
   "execution_count": 23,
   "metadata": {},
   "outputs": [],
   "source": [
    "df = pca_components(df)\n",
    "fdf = pca_components(fdf)"
   ]
  },
  {
   "cell_type": "markdown",
   "metadata": {},
   "source": [
    "## V. Генерация новых фичей"
   ]
  },
  {
   "cell_type": "markdown",
   "metadata": {},
   "source": [
    "**Target encoding**"
   ]
  },
  {
   "cell_type": "code",
   "execution_count": 24,
   "metadata": {},
   "outputs": [],
   "source": [
    "# медианная цена по параметру DistrictId\n",
    "med_P_D = df.groupby(['DistrictId'], as_index=False).agg({'Price':'median'}).\\\n",
    "                        rename(columns={'Price':'med_P_D'})\n",
    "\n",
    "df = df.merge(med_P_D, on=['DistrictId'], how='left')\n",
    "fdf = fdf.merge(med_P_D, on=['DistrictId'], how='left')\n",
    "fdf.fillna(df.med_P_D.median(), inplace=True)\n",
    "\n",
    "# медианная цена по параметру Social_2\n",
    "med_P_S2 = df.groupby(['Social_2'], as_index=False).agg({'Price':'median'}).\\\n",
    "                        rename(columns={'Price':'med_P_S2'})\n",
    "\n",
    "df = df.merge(med_P_S2, on=['Social_2'], how='left')\n",
    "fdf = fdf.merge(med_P_S2, on=['Social_2'], how='left')\n",
    "fdf.fillna(df.med_P_S2.median(), inplace=True)\n",
    "\n",
    "# цена за квадратный метр\n",
    "df['avg_price'] = np.round(df['Price'] / df['Square'], -2)\n",
    "\n",
    "# медианная цена за метр по параметру DistrictId\n",
    "med_P_D_ap = df.groupby(['DistrictId'], as_index=False).agg({'avg_price':'median'}).\\\n",
    "                        rename(columns={'avg_price':'med_P_D_ap'})\n",
    "\n",
    "df = df.merge(med_P_D_ap, on=['DistrictId'], how='left')\n",
    "fdf = fdf.merge(med_P_D_ap, on=['DistrictId'], how='left')\n",
    "fdf.fillna(df.med_P_D_ap.median(), inplace=True)\n",
    "\n",
    "# медианная цена за метр по параметру Social_2\n",
    "med_P_S2_ap = df.groupby(['Social_2'], as_index=False).agg({'avg_price':'median'}).\\\n",
    "                        rename(columns={'avg_price':'med_P_S2_ap'})\n",
    "\n",
    "df = df.merge(med_P_S2_ap, on=['Social_2'], how='left')\n",
    "fdf = fdf.merge(med_P_S2_ap, on=['Social_2'], how='left')\n",
    "fdf.fillna(df.med_P_S2_ap.median(), inplace=True)"
   ]
  },
  {
   "cell_type": "markdown",
   "metadata": {},
   "source": [
    "## VI. Модель предсказания целевой переменной Price"
   ]
  },
  {
   "cell_type": "code",
   "execution_count": 25,
   "metadata": {},
   "outputs": [],
   "source": [
    "df.set_index('Id', inplace=True)\n",
    "fdf.set_index('Id', inplace=True)\n",
    "\n",
    "list_out = ['Price', 'DistrictId', 'avg_price', 'Helthcare_2', 'Ecology', 'Shops']\n",
    "param_X = []\n",
    "\n",
    "for i in df:\n",
    "     if i not in list_out:\n",
    "        param_X.append(i)"
   ]
  },
  {
   "cell_type": "code",
   "execution_count": 26,
   "metadata": {},
   "outputs": [
    {
     "data": {
      "text/html": [
       "<div>\n",
       "<style scoped>\n",
       "    .dataframe tbody tr th:only-of-type {\n",
       "        vertical-align: middle;\n",
       "    }\n",
       "\n",
       "    .dataframe tbody tr th {\n",
       "        vertical-align: top;\n",
       "    }\n",
       "\n",
       "    .dataframe thead th {\n",
       "        text-align: right;\n",
       "    }\n",
       "</style>\n",
       "<table border=\"1\" class=\"dataframe\">\n",
       "  <thead>\n",
       "    <tr style=\"text-align: right;\">\n",
       "      <th></th>\n",
       "      <th>Rooms</th>\n",
       "      <th>Square</th>\n",
       "      <th>KitchenSquare</th>\n",
       "      <th>Floor</th>\n",
       "      <th>HouseFloor</th>\n",
       "      <th>HouseYear</th>\n",
       "      <th>Social_1</th>\n",
       "      <th>Social_2</th>\n",
       "      <th>Social_3</th>\n",
       "      <th>Healthcare_1</th>\n",
       "      <th>med_P_D</th>\n",
       "      <th>med_P_S2</th>\n",
       "      <th>med_P_D_ap</th>\n",
       "      <th>med_P_S2_ap</th>\n",
       "    </tr>\n",
       "    <tr>\n",
       "      <th>Id</th>\n",
       "      <th></th>\n",
       "      <th></th>\n",
       "      <th></th>\n",
       "      <th></th>\n",
       "      <th></th>\n",
       "      <th></th>\n",
       "      <th></th>\n",
       "      <th></th>\n",
       "      <th></th>\n",
       "      <th></th>\n",
       "      <th></th>\n",
       "      <th></th>\n",
       "      <th></th>\n",
       "      <th></th>\n",
       "    </tr>\n",
       "  </thead>\n",
       "  <tbody>\n",
       "    <tr>\n",
       "      <td>14038</td>\n",
       "      <td>2.0</td>\n",
       "      <td>47.981561</td>\n",
       "      <td>6.0</td>\n",
       "      <td>7.0</td>\n",
       "      <td>9.0</td>\n",
       "      <td>1969</td>\n",
       "      <td>33</td>\n",
       "      <td>7976</td>\n",
       "      <td>5</td>\n",
       "      <td>1388.2</td>\n",
       "      <td>203602.408898</td>\n",
       "      <td>216329.642379</td>\n",
       "      <td>4350.0</td>\n",
       "      <td>4400.0</td>\n",
       "    </tr>\n",
       "    <tr>\n",
       "      <td>15053</td>\n",
       "      <td>3.0</td>\n",
       "      <td>65.683640</td>\n",
       "      <td>8.0</td>\n",
       "      <td>7.0</td>\n",
       "      <td>9.0</td>\n",
       "      <td>1978</td>\n",
       "      <td>46</td>\n",
       "      <td>10309</td>\n",
       "      <td>1</td>\n",
       "      <td>240.0</td>\n",
       "      <td>210694.850106</td>\n",
       "      <td>205321.620544</td>\n",
       "      <td>4400.0</td>\n",
       "      <td>4400.0</td>\n",
       "    </tr>\n",
       "  </tbody>\n",
       "</table>\n",
       "</div>"
      ],
      "text/plain": [
       "       Rooms     Square  KitchenSquare  Floor  HouseFloor  HouseYear  \\\n",
       "Id                                                                     \n",
       "14038    2.0  47.981561            6.0    7.0         9.0       1969   \n",
       "15053    3.0  65.683640            8.0    7.0         9.0       1978   \n",
       "\n",
       "       Social_1  Social_2  Social_3  Healthcare_1        med_P_D  \\\n",
       "Id                                                                 \n",
       "14038        33      7976         5        1388.2  203602.408898   \n",
       "15053        46     10309         1         240.0  210694.850106   \n",
       "\n",
       "            med_P_S2  med_P_D_ap  med_P_S2_ap  \n",
       "Id                                             \n",
       "14038  216329.642379      4350.0       4400.0  \n",
       "15053  205321.620544      4400.0       4400.0  "
      ]
     },
     "execution_count": 26,
     "metadata": {},
     "output_type": "execute_result"
    }
   ],
   "source": [
    "# датафрейм без целевой переменной\n",
    "X = df[param_X]\n",
    "X.head(2)"
   ]
  },
  {
   "cell_type": "code",
   "execution_count": 27,
   "metadata": {},
   "outputs": [
    {
     "data": {
      "text/html": [
       "<div>\n",
       "<style scoped>\n",
       "    .dataframe tbody tr th:only-of-type {\n",
       "        vertical-align: middle;\n",
       "    }\n",
       "\n",
       "    .dataframe tbody tr th {\n",
       "        vertical-align: top;\n",
       "    }\n",
       "\n",
       "    .dataframe thead th {\n",
       "        text-align: right;\n",
       "    }\n",
       "</style>\n",
       "<table border=\"1\" class=\"dataframe\">\n",
       "  <thead>\n",
       "    <tr style=\"text-align: right;\">\n",
       "      <th></th>\n",
       "      <th>Rooms</th>\n",
       "      <th>Square</th>\n",
       "      <th>KitchenSquare</th>\n",
       "      <th>Floor</th>\n",
       "      <th>HouseFloor</th>\n",
       "      <th>HouseYear</th>\n",
       "      <th>Social_1</th>\n",
       "      <th>Social_2</th>\n",
       "      <th>Social_3</th>\n",
       "      <th>Healthcare_1</th>\n",
       "      <th>med_P_D</th>\n",
       "      <th>med_P_S2</th>\n",
       "      <th>med_P_D_ap</th>\n",
       "      <th>med_P_S2_ap</th>\n",
       "    </tr>\n",
       "    <tr>\n",
       "      <th>Id</th>\n",
       "      <th></th>\n",
       "      <th></th>\n",
       "      <th></th>\n",
       "      <th></th>\n",
       "      <th></th>\n",
       "      <th></th>\n",
       "      <th></th>\n",
       "      <th></th>\n",
       "      <th></th>\n",
       "      <th></th>\n",
       "      <th></th>\n",
       "      <th></th>\n",
       "      <th></th>\n",
       "      <th></th>\n",
       "    </tr>\n",
       "  </thead>\n",
       "  <tbody>\n",
       "    <tr>\n",
       "      <td>725</td>\n",
       "      <td>2.0</td>\n",
       "      <td>49.882643</td>\n",
       "      <td>6.0</td>\n",
       "      <td>6.0</td>\n",
       "      <td>14.0</td>\n",
       "      <td>1972</td>\n",
       "      <td>11</td>\n",
       "      <td>2748</td>\n",
       "      <td>1</td>\n",
       "      <td>452.4</td>\n",
       "      <td>151557.904767</td>\n",
       "      <td>155335.327454</td>\n",
       "      <td>2900.0</td>\n",
       "      <td>3500.0</td>\n",
       "    </tr>\n",
       "    <tr>\n",
       "      <td>15856</td>\n",
       "      <td>2.0</td>\n",
       "      <td>69.263183</td>\n",
       "      <td>6.0</td>\n",
       "      <td>1.0</td>\n",
       "      <td>6.0</td>\n",
       "      <td>1977</td>\n",
       "      <td>6</td>\n",
       "      <td>1437</td>\n",
       "      <td>3</td>\n",
       "      <td>1679.2</td>\n",
       "      <td>195610.960042</td>\n",
       "      <td>159768.174822</td>\n",
       "      <td>3300.0</td>\n",
       "      <td>2700.0</td>\n",
       "    </tr>\n",
       "  </tbody>\n",
       "</table>\n",
       "</div>"
      ],
      "text/plain": [
       "       Rooms     Square  KitchenSquare  Floor  HouseFloor  HouseYear  \\\n",
       "Id                                                                     \n",
       "725      2.0  49.882643            6.0    6.0        14.0       1972   \n",
       "15856    2.0  69.263183            6.0    1.0         6.0       1977   \n",
       "\n",
       "       Social_1  Social_2  Social_3  Healthcare_1        med_P_D  \\\n",
       "Id                                                                 \n",
       "725          11      2748         1         452.4  151557.904767   \n",
       "15856         6      1437         3        1679.2  195610.960042   \n",
       "\n",
       "            med_P_S2  med_P_D_ap  med_P_S2_ap  \n",
       "Id                                             \n",
       "725    155335.327454      2900.0       3500.0  \n",
       "15856  159768.174822      3300.0       2700.0  "
      ]
     },
     "execution_count": 27,
     "metadata": {},
     "output_type": "execute_result"
    }
   ],
   "source": [
    "# финальный датафрейм без целевой переменной\n",
    "X_pred = fdf[param_X]\n",
    "X_pred.head(2)"
   ]
  },
  {
   "cell_type": "code",
   "execution_count": 28,
   "metadata": {},
   "outputs": [
    {
     "data": {
      "text/plain": [
       "Id\n",
       "14038    184966.930730\n",
       "15053    300009.450063\n",
       "4765     220925.908524\n",
       "5809     175616.227217\n",
       "10783    150226.531644\n",
       "Name: Price, dtype: float64"
      ]
     },
     "execution_count": 28,
     "metadata": {},
     "output_type": "execute_result"
    }
   ],
   "source": [
    "# целевая переменная\n",
    "y = df['Price']\n",
    "y.head()"
   ]
  },
  {
   "cell_type": "code",
   "execution_count": 29,
   "metadata": {},
   "outputs": [
    {
     "data": {
      "text/plain": [
       "Price            1.000000\n",
       "avg_price        0.623969\n",
       "Square           0.574338\n",
       "Rooms            0.574272\n",
       "med_P_D          0.567552\n",
       "med_P_S2         0.559714\n",
       "med_P_D_ap       0.527179\n",
       "med_P_S2_ap      0.526150\n",
       "KitchenSquare    0.323550\n",
       "Social_1         0.263286\n",
       "Helthcare_2      0.253090\n",
       "Social_2         0.239226\n",
       "Healthcare_1     0.186238\n",
       "Shops            0.180894\n",
       "HouseFloor       0.115733\n",
       "Floor            0.113605\n",
       "Social_3         0.074878\n",
       "HouseYear        0.036574\n",
       "Ecology         -0.058412\n",
       "Name: Price, dtype: float64"
      ]
     },
     "execution_count": 29,
     "metadata": {},
     "output_type": "execute_result"
    }
   ],
   "source": [
    "df.corr().Price.sort_values(ascending=False)"
   ]
  },
  {
   "cell_type": "markdown",
   "metadata": {},
   "source": [
    "**Модель RandomForestRegressor**"
   ]
  },
  {
   "cell_type": "code",
   "execution_count": 30,
   "metadata": {},
   "outputs": [
    {
     "name": "stdout",
     "output_type": "stream",
     "text": [
      "R2: 0.750 +- 0.020\n"
     ]
    }
   ],
   "source": [
    "rf = RandomForestRegressor(n_estimators=350, max_depth=22, n_jobs=-1, random_state=42)\n",
    "\n",
    "cv_score = cross_val_score(rf, X, y, \n",
    "                           scoring='r2', \n",
    "                           cv=KFold(n_splits=5, shuffle=True, random_state=42))\n",
    "mean = cv_score.mean()\n",
    "std = cv_score.std()\n",
    "\n",
    "print('R2: {:.3f} +- {:.3f}'.format(mean, std))\n",
    "# R2: 0.750 +- 0.020"
   ]
  },
  {
   "cell_type": "code",
   "execution_count": 31,
   "metadata": {},
   "outputs": [
    {
     "name": "stdout",
     "output_type": "stream",
     "text": [
      "R2:\t0.966\n",
      "RMSE:\t17158.714\n",
      "MSE:\t294421454.185\n"
     ]
    },
    {
     "data": {
      "image/png": "[encoded data removed]",
      "text/plain": [
       "<Figure size 576x576 with 1 Axes>"
      ]
     },
     "metadata": {
      "needs_background": "light"
     },
     "output_type": "display_data"
    }
   ],
   "source": [
    "# обучение модели на полных данных\n",
    "rf.fit(X, y)\n",
    "# предсказание на полных данных\n",
    "y_pred_rf = rf.predict(X)\n",
    "evaluate_preds(y, y_pred_rf)\n",
    "# R2: 0.966\n",
    "# R2 на Kaggle: 0.74449"
   ]
  },
  {
   "cell_type": "code",
   "execution_count": 32,
   "metadata": {},
   "outputs": [
    {
     "data": {
      "text/html": [
       "<div>\n",
       "<style scoped>\n",
       "    .dataframe tbody tr th:only-of-type {\n",
       "        vertical-align: middle;\n",
       "    }\n",
       "\n",
       "    .dataframe tbody tr th {\n",
       "        vertical-align: top;\n",
       "    }\n",
       "\n",
       "    .dataframe thead th {\n",
       "        text-align: right;\n",
       "    }\n",
       "</style>\n",
       "<table border=\"1\" class=\"dataframe\">\n",
       "  <thead>\n",
       "    <tr style=\"text-align: right;\">\n",
       "      <th></th>\n",
       "      <th>feature_name</th>\n",
       "      <th>importance</th>\n",
       "    </tr>\n",
       "  </thead>\n",
       "  <tbody>\n",
       "    <tr>\n",
       "      <td>1</td>\n",
       "      <td>Square</td>\n",
       "      <td>0.422913</td>\n",
       "    </tr>\n",
       "    <tr>\n",
       "      <td>12</td>\n",
       "      <td>med_P_D_ap</td>\n",
       "      <td>0.145712</td>\n",
       "    </tr>\n",
       "    <tr>\n",
       "      <td>10</td>\n",
       "      <td>med_P_D</td>\n",
       "      <td>0.112901</td>\n",
       "    </tr>\n",
       "    <tr>\n",
       "      <td>13</td>\n",
       "      <td>med_P_S2_ap</td>\n",
       "      <td>0.093292</td>\n",
       "    </tr>\n",
       "    <tr>\n",
       "      <td>11</td>\n",
       "      <td>med_P_S2</td>\n",
       "      <td>0.043209</td>\n",
       "    </tr>\n",
       "    <tr>\n",
       "      <td>5</td>\n",
       "      <td>HouseYear</td>\n",
       "      <td>0.033157</td>\n",
       "    </tr>\n",
       "    <tr>\n",
       "      <td>0</td>\n",
       "      <td>Rooms</td>\n",
       "      <td>0.032121</td>\n",
       "    </tr>\n",
       "    <tr>\n",
       "      <td>4</td>\n",
       "      <td>HouseFloor</td>\n",
       "      <td>0.026692</td>\n",
       "    </tr>\n",
       "    <tr>\n",
       "      <td>3</td>\n",
       "      <td>Floor</td>\n",
       "      <td>0.023825</td>\n",
       "    </tr>\n",
       "    <tr>\n",
       "      <td>2</td>\n",
       "      <td>KitchenSquare</td>\n",
       "      <td>0.019793</td>\n",
       "    </tr>\n",
       "    <tr>\n",
       "      <td>9</td>\n",
       "      <td>Healthcare_1</td>\n",
       "      <td>0.015068</td>\n",
       "    </tr>\n",
       "    <tr>\n",
       "      <td>7</td>\n",
       "      <td>Social_2</td>\n",
       "      <td>0.011439</td>\n",
       "    </tr>\n",
       "    <tr>\n",
       "      <td>8</td>\n",
       "      <td>Social_3</td>\n",
       "      <td>0.011277</td>\n",
       "    </tr>\n",
       "    <tr>\n",
       "      <td>6</td>\n",
       "      <td>Social_1</td>\n",
       "      <td>0.008600</td>\n",
       "    </tr>\n",
       "  </tbody>\n",
       "</table>\n",
       "</div>"
      ],
      "text/plain": [
       "     feature_name  importance\n",
       "1          Square    0.422913\n",
       "12     med_P_D_ap    0.145712\n",
       "10        med_P_D    0.112901\n",
       "13    med_P_S2_ap    0.093292\n",
       "11       med_P_S2    0.043209\n",
       "5       HouseYear    0.033157\n",
       "0           Rooms    0.032121\n",
       "4      HouseFloor    0.026692\n",
       "3           Floor    0.023825\n",
       "2   KitchenSquare    0.019793\n",
       "9    Healthcare_1    0.015068\n",
       "7        Social_2    0.011439\n",
       "8        Social_3    0.011277\n",
       "6        Social_1    0.008600"
      ]
     },
     "execution_count": 32,
     "metadata": {},
     "output_type": "execute_result"
    }
   ],
   "source": [
    "feature_importances = pd.DataFrame(zip(X.columns, rf.feature_importances_), \n",
    "                                   columns=['feature_name', 'importance'])\n",
    "\n",
    "feature_importances.sort_values(by='importance', ascending=False)"
   ]
  },
  {
   "cell_type": "markdown",
   "metadata": {},
   "source": [
    "**Модель VotingRegressor**"
   ]
  },
  {
   "cell_type": "code",
   "execution_count": 33,
   "metadata": {},
   "outputs": [
    {
     "name": "stdout",
     "output_type": "stream",
     "text": [
      "R2: 0.767 +- 0.022\n"
     ]
    },
    {
     "data": {
      "text/plain": [
       "VotingRegressor(estimators=[('model_1',\n",
       "                             RandomForestRegressor(bootstrap=True,\n",
       "                                                   criterion='mse',\n",
       "                                                   max_depth=22,\n",
       "                                                   max_features='auto',\n",
       "                                                   max_leaf_nodes=None,\n",
       "                                                   min_impurity_decrease=0.0,\n",
       "                                                   min_impurity_split=None,\n",
       "                                                   min_samples_leaf=1,\n",
       "                                                   min_samples_split=2,\n",
       "                                                   min_weight_fraction_leaf=0.0,\n",
       "                                                   n_estimators=350, n_jobs=-1,\n",
       "                                                   oob_score=False,\n",
       "                                                   random_state=42, verbose=0,\n",
       "                                                   warm_start=False))...\n",
       "                                           colsample_bytree=1.0,\n",
       "                                           importance_type='split',\n",
       "                                           learning_rate=0.1, max_depth=4,\n",
       "                                           min_child_samples=20,\n",
       "                                           min_child_weight=0.001,\n",
       "                                           min_samples_leaf=10,\n",
       "                                           min_split_gain=0.0, n_estimators=300,\n",
       "                                           n_jobs=-1, num_leaves=31,\n",
       "                                           objective=None, random_state=42,\n",
       "                                           reg_alpha=0.0, reg_lambda=0.0,\n",
       "                                           silent=True, subsample=1.0,\n",
       "                                           subsample_for_bin=200000,\n",
       "                                           subsample_freq=0))],\n",
       "                n_jobs=None, weights=None)"
      ]
     },
     "execution_count": 33,
     "metadata": {},
     "output_type": "execute_result"
    }
   ],
   "source": [
    "model_rf = RandomForestRegressor(n_estimators=350, max_depth=22, n_jobs=-1, random_state=42)\n",
    "\n",
    "model_lgbm = LGBMRegressor(max_depth=4, min_samples_leaf=10, n_estimators=300, random_state=42)\n",
    "\n",
    "model_vr = VotingRegressor([('model_1', model_rf), ('model_2', model_lgbm)])\n",
    "\n",
    "cv_score = cross_val_score(model_vr, X, y, \n",
    "                           scoring='r2', \n",
    "                           cv=KFold(n_splits=10, shuffle=True, random_state=42))\n",
    "\n",
    "mean = cv_score.mean()\n",
    "std = cv_score.std()\n",
    "\n",
    "print('R2: {:.3f} +- {:.3f}'.format(mean, std))\n",
    "#R2: 0.767 +- 0.022\n",
    "model_vr.fit(X, y)"
   ]
  },
  {
   "cell_type": "code",
   "execution_count": 34,
   "metadata": {},
   "outputs": [
    {
     "name": "stdout",
     "output_type": "stream",
     "text": [
      "R2:\t0.921\n",
      "RMSE:\t26076.502\n",
      "MSE:\t679983960.237\n"
     ]
    },
    {
     "data": {
      "image/png": "[encoded data removed]",
      "text/plain": [
       "<Figure size 576x576 with 1 Axes>"
      ]
     },
     "metadata": {
      "needs_background": "light"
     },
     "output_type": "display_data"
    }
   ],
   "source": [
    "y_pred_vr = model_vr.predict(X)\n",
    "evaluate_preds(y, y_pred_vr)\n",
    "# R2: 0.921\n",
    "# R2 на Kaggle: 0.75737"
   ]
  },
  {
   "cell_type": "markdown",
   "metadata": {},
   "source": [
    "## VII. Предсказание и сохранение финальных данных"
   ]
  },
  {
   "cell_type": "code",
   "execution_count": 35,
   "metadata": {},
   "outputs": [],
   "source": [
    "# на модели RandomForestRegressor\n",
    "f_pred = rf.predict(X_pred)\n",
    "final_df = pd.DataFrame()\n",
    "final_df['Id'] = fdf.index\n",
    "final_df['Price'] = f_pred\n",
    "final_df.to_csv('predict_rf.csv', index=False, encoding='utf-8')\n",
    "# R2 на Kaggle: 0.74505\n",
    "\n",
    "# на модели VotingRegressor\n",
    "f_pred = model_vr.predict(X_pred)\n",
    "final_df = pd.DataFrame()\n",
    "final_df['Id'] = fdf.index\n",
    "final_df['Price'] = f_pred\n",
    "final_df.to_csv('predict_vr.csv', index=False, encoding='utf-8')\n",
    "# R2 на Kaggle: 0.75460"
   ]
  },
  {
   "cell_type": "code",
   "execution_count": null,
   "metadata": {},
   "outputs": [],
   "source": []
  }
 ],
 "metadata": {
  "kernelspec": {
   "display_name": "Python 3",
   "language": "python",
   "name": "python3"
  },
  "language_info": {
   "codemirror_mode": {
    "name": "ipython",
    "version": 3
   },
   "file_extension": ".py",
   "mimetype": "text/x-python",
   "name": "python",
   "nbconvert_exporter": "python",
   "pygments_lexer": "ipython3",
   "version": "3.7.4"
  }
 },
 "nbformat": 4,
 "nbformat_minor": 2
}
